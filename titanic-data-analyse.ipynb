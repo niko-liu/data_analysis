{
 "cells": [
  {
   "cell_type": "markdown",
   "metadata": {},
   "source": [
    "## 加载csv数据"
   ]
  },
  {
   "cell_type": "code",
   "execution_count": 1,
   "metadata": {},
   "outputs": [
    {
     "data": {
      "text/html": [
       "<div>\n",
       "<style scoped>\n",
       "    .dataframe tbody tr th:only-of-type {\n",
       "        vertical-align: middle;\n",
       "    }\n",
       "\n",
       "    .dataframe tbody tr th {\n",
       "        vertical-align: top;\n",
       "    }\n",
       "\n",
       "    .dataframe thead th {\n",
       "        text-align: right;\n",
       "    }\n",
       "</style>\n",
       "<table border=\"1\" class=\"dataframe\">\n",
       "  <thead>\n",
       "    <tr style=\"text-align: right;\">\n",
       "      <th></th>\n",
       "      <th>PassengerId</th>\n",
       "      <th>Survived</th>\n",
       "      <th>Pclass</th>\n",
       "      <th>Name</th>\n",
       "      <th>Sex</th>\n",
       "      <th>Age</th>\n",
       "      <th>SibSp</th>\n",
       "      <th>Parch</th>\n",
       "      <th>Ticket</th>\n",
       "      <th>Fare</th>\n",
       "      <th>Cabin</th>\n",
       "      <th>Embarked</th>\n",
       "    </tr>\n",
       "  </thead>\n",
       "  <tbody>\n",
       "    <tr>\n",
       "      <th>0</th>\n",
       "      <td>1</td>\n",
       "      <td>0</td>\n",
       "      <td>3</td>\n",
       "      <td>Braund, Mr. Owen Harris</td>\n",
       "      <td>male</td>\n",
       "      <td>22.0</td>\n",
       "      <td>1</td>\n",
       "      <td>0</td>\n",
       "      <td>A/5 21171</td>\n",
       "      <td>7.2500</td>\n",
       "      <td>NaN</td>\n",
       "      <td>S</td>\n",
       "    </tr>\n",
       "    <tr>\n",
       "      <th>1</th>\n",
       "      <td>2</td>\n",
       "      <td>1</td>\n",
       "      <td>1</td>\n",
       "      <td>Cumings, Mrs. John Bradley (Florence Briggs Th...</td>\n",
       "      <td>female</td>\n",
       "      <td>38.0</td>\n",
       "      <td>1</td>\n",
       "      <td>0</td>\n",
       "      <td>PC 17599</td>\n",
       "      <td>71.2833</td>\n",
       "      <td>C85</td>\n",
       "      <td>C</td>\n",
       "    </tr>\n",
       "    <tr>\n",
       "      <th>2</th>\n",
       "      <td>3</td>\n",
       "      <td>1</td>\n",
       "      <td>3</td>\n",
       "      <td>Heikkinen, Miss. Laina</td>\n",
       "      <td>female</td>\n",
       "      <td>26.0</td>\n",
       "      <td>0</td>\n",
       "      <td>0</td>\n",
       "      <td>STON/O2. 3101282</td>\n",
       "      <td>7.9250</td>\n",
       "      <td>NaN</td>\n",
       "      <td>S</td>\n",
       "    </tr>\n",
       "    <tr>\n",
       "      <th>3</th>\n",
       "      <td>4</td>\n",
       "      <td>1</td>\n",
       "      <td>1</td>\n",
       "      <td>Futrelle, Mrs. Jacques Heath (Lily May Peel)</td>\n",
       "      <td>female</td>\n",
       "      <td>35.0</td>\n",
       "      <td>1</td>\n",
       "      <td>0</td>\n",
       "      <td>113803</td>\n",
       "      <td>53.1000</td>\n",
       "      <td>C123</td>\n",
       "      <td>S</td>\n",
       "    </tr>\n",
       "    <tr>\n",
       "      <th>4</th>\n",
       "      <td>5</td>\n",
       "      <td>0</td>\n",
       "      <td>3</td>\n",
       "      <td>Allen, Mr. William Henry</td>\n",
       "      <td>male</td>\n",
       "      <td>35.0</td>\n",
       "      <td>0</td>\n",
       "      <td>0</td>\n",
       "      <td>373450</td>\n",
       "      <td>8.0500</td>\n",
       "      <td>NaN</td>\n",
       "      <td>S</td>\n",
       "    </tr>\n",
       "  </tbody>\n",
       "</table>\n",
       "</div>"
      ],
      "text/plain": [
       "   PassengerId  Survived  Pclass  \\\n",
       "0            1         0       3   \n",
       "1            2         1       1   \n",
       "2            3         1       3   \n",
       "3            4         1       1   \n",
       "4            5         0       3   \n",
       "\n",
       "                                                Name     Sex   Age  SibSp  \\\n",
       "0                            Braund, Mr. Owen Harris    male  22.0      1   \n",
       "1  Cumings, Mrs. John Bradley (Florence Briggs Th...  female  38.0      1   \n",
       "2                             Heikkinen, Miss. Laina  female  26.0      0   \n",
       "3       Futrelle, Mrs. Jacques Heath (Lily May Peel)  female  35.0      1   \n",
       "4                           Allen, Mr. William Henry    male  35.0      0   \n",
       "\n",
       "   Parch            Ticket     Fare Cabin Embarked  \n",
       "0      0         A/5 21171   7.2500   NaN        S  \n",
       "1      0          PC 17599  71.2833   C85        C  \n",
       "2      0  STON/O2. 3101282   7.9250   NaN        S  \n",
       "3      0            113803  53.1000  C123        S  \n",
       "4      0            373450   8.0500   NaN        S  "
      ]
     },
     "execution_count": 1,
     "metadata": {},
     "output_type": "execute_result"
    }
   ],
   "source": [
    "import pandas as pd\n",
    "import numpy as np\n",
    "\n",
    "titanic_df = pd.read_csv('./titanic-data.csv')\n",
    "titanic_df.head()"
   ]
  },
  {
   "cell_type": "markdown",
   "metadata": {},
   "source": [
    "## 是否存在缺失字段"
   ]
  },
  {
   "cell_type": "code",
   "execution_count": 2,
   "metadata": {},
   "outputs": [
    {
     "data": {
      "text/plain": [
       "PassengerId    0.000000\n",
       "Survived       0.000000\n",
       "Pclass         0.000000\n",
       "Name           0.000000\n",
       "Sex            0.000000\n",
       "Age            0.198653\n",
       "SibSp          0.000000\n",
       "Parch          0.000000\n",
       "Ticket         0.000000\n",
       "Fare           0.000000\n",
       "Cabin          0.771044\n",
       "Embarked       0.002245\n",
       "dtype: float64"
      ]
     },
     "execution_count": 2,
     "metadata": {},
     "output_type": "execute_result"
    }
   ],
   "source": [
    "titanic_df.isna().sum()/titanic_df.isna().count()"
   ]
  },
  {
   "cell_type": "markdown",
   "metadata": {},
   "source": [
    "## 删除唔关字段\n",
    "由于Name，Ticket与是否生还没有太大关系，故选择删除，另外仓位其实与是否生还有一定联系，但是从上面统计得知仓位缺失值超过半数，达到77.1%，缺失比例太高，已经没有太大分析意义，故也把该值删除。"
   ]
  },
  {
   "cell_type": "code",
   "execution_count": 3,
   "metadata": {},
   "outputs": [
    {
     "data": {
      "text/html": [
       "<div>\n",
       "<style scoped>\n",
       "    .dataframe tbody tr th:only-of-type {\n",
       "        vertical-align: middle;\n",
       "    }\n",
       "\n",
       "    .dataframe tbody tr th {\n",
       "        vertical-align: top;\n",
       "    }\n",
       "\n",
       "    .dataframe thead th {\n",
       "        text-align: right;\n",
       "    }\n",
       "</style>\n",
       "<table border=\"1\" class=\"dataframe\">\n",
       "  <thead>\n",
       "    <tr style=\"text-align: right;\">\n",
       "      <th></th>\n",
       "      <th>PassengerId</th>\n",
       "      <th>Survived</th>\n",
       "      <th>Pclass</th>\n",
       "      <th>Sex</th>\n",
       "      <th>Age</th>\n",
       "      <th>SibSp</th>\n",
       "      <th>Parch</th>\n",
       "      <th>Fare</th>\n",
       "      <th>Embarked</th>\n",
       "    </tr>\n",
       "  </thead>\n",
       "  <tbody>\n",
       "    <tr>\n",
       "      <th>0</th>\n",
       "      <td>1</td>\n",
       "      <td>0</td>\n",
       "      <td>3</td>\n",
       "      <td>male</td>\n",
       "      <td>22.0</td>\n",
       "      <td>1</td>\n",
       "      <td>0</td>\n",
       "      <td>7.2500</td>\n",
       "      <td>S</td>\n",
       "    </tr>\n",
       "    <tr>\n",
       "      <th>1</th>\n",
       "      <td>2</td>\n",
       "      <td>1</td>\n",
       "      <td>1</td>\n",
       "      <td>female</td>\n",
       "      <td>38.0</td>\n",
       "      <td>1</td>\n",
       "      <td>0</td>\n",
       "      <td>71.2833</td>\n",
       "      <td>C</td>\n",
       "    </tr>\n",
       "    <tr>\n",
       "      <th>2</th>\n",
       "      <td>3</td>\n",
       "      <td>1</td>\n",
       "      <td>3</td>\n",
       "      <td>female</td>\n",
       "      <td>26.0</td>\n",
       "      <td>0</td>\n",
       "      <td>0</td>\n",
       "      <td>7.9250</td>\n",
       "      <td>S</td>\n",
       "    </tr>\n",
       "    <tr>\n",
       "      <th>3</th>\n",
       "      <td>4</td>\n",
       "      <td>1</td>\n",
       "      <td>1</td>\n",
       "      <td>female</td>\n",
       "      <td>35.0</td>\n",
       "      <td>1</td>\n",
       "      <td>0</td>\n",
       "      <td>53.1000</td>\n",
       "      <td>S</td>\n",
       "    </tr>\n",
       "    <tr>\n",
       "      <th>4</th>\n",
       "      <td>5</td>\n",
       "      <td>0</td>\n",
       "      <td>3</td>\n",
       "      <td>male</td>\n",
       "      <td>35.0</td>\n",
       "      <td>0</td>\n",
       "      <td>0</td>\n",
       "      <td>8.0500</td>\n",
       "      <td>S</td>\n",
       "    </tr>\n",
       "  </tbody>\n",
       "</table>\n",
       "</div>"
      ],
      "text/plain": [
       "   PassengerId  Survived  Pclass     Sex   Age  SibSp  Parch     Fare Embarked\n",
       "0            1         0       3    male  22.0      1      0   7.2500        S\n",
       "1            2         1       1  female  38.0      1      0  71.2833        C\n",
       "2            3         1       3  female  26.0      0      0   7.9250        S\n",
       "3            4         1       1  female  35.0      1      0  53.1000        S\n",
       "4            5         0       3    male  35.0      0      0   8.0500        S"
      ]
     },
     "execution_count": 3,
     "metadata": {},
     "output_type": "execute_result"
    }
   ],
   "source": [
    "# 删除Name，Ticket，Cabin，这些数据和生还率好像都没有什么关系，而且Cabin这个字段还记录不全\n",
    "# Ticket这个字段对分析毫无作用\n",
    "del titanic_df['Name']\n",
    "del titanic_df['Ticket']\n",
    "del titanic_df['Cabin']\n",
    "titanic_df.head()"
   ]
  },
  {
   "cell_type": "markdown",
   "metadata": {},
   "source": [
    "## 检查是否存在空值"
   ]
  },
  {
   "cell_type": "code",
   "execution_count": 4,
   "metadata": {},
   "outputs": [
    {
     "data": {
      "text/plain": [
       "PassengerId      0\n",
       "Survived         0\n",
       "Pclass           0\n",
       "Sex              0\n",
       "Age            177\n",
       "SibSp            0\n",
       "Parch            0\n",
       "Fare             0\n",
       "Embarked         2\n",
       "dtype: int64"
      ]
     },
     "execution_count": 4,
     "metadata": {},
     "output_type": "execute_result"
    }
   ],
   "source": [
    "titanic_df.isnull().sum()"
   ]
  },
  {
   "cell_type": "markdown",
   "metadata": {},
   "source": [
    "经过统计，观察到Age存在空值，Embarked存在空值，先把Embarked空值的数据打印出来看看是什么数据"
   ]
  },
  {
   "cell_type": "code",
   "execution_count": 5,
   "metadata": {},
   "outputs": [],
   "source": [
    "# 对登船记录做填充，因为登船记录只有两个数据缺失，所以直接补充为Unknown即可，这两个数据对分析关系不是很大\n",
    "titanic_df.Embarked.fillna(\"Unknown\", inplace=True)"
   ]
  },
  {
   "cell_type": "code",
   "execution_count": 6,
   "metadata": {},
   "outputs": [
    {
     "data": {
      "text/plain": [
       "count    714.000000\n",
       "mean      29.699118\n",
       "std       14.526497\n",
       "min        0.420000\n",
       "25%       20.125000\n",
       "50%       28.000000\n",
       "75%       38.000000\n",
       "max       80.000000\n",
       "Name: Age, dtype: float64"
      ]
     },
     "execution_count": 6,
     "metadata": {},
     "output_type": "execute_result"
    }
   ],
   "source": [
    "# 因为年龄缺失值在20%左右，而且据当时历史了解，年龄层次不同与生还直接相关，所有有必要对年龄进行一些填补\n",
    "# 统计以下填充前的年龄分布情况\n",
    "titanic_df.Age.describe()"
   ]
  },
  {
   "cell_type": "code",
   "execution_count": 7,
   "metadata": {},
   "outputs": [
    {
     "name": "stdout",
     "output_type": "stream",
     "text": [
      "age median:Sex\n",
      "female    27.0\n",
      "male      29.0\n",
      "Name: Age, dtype: float64\n"
     ]
    },
    {
     "data": {
      "text/plain": [
       "count    891.000000\n",
       "mean      29.441268\n",
       "std       13.018747\n",
       "min        0.420000\n",
       "25%       22.000000\n",
       "50%       29.000000\n",
       "75%       35.000000\n",
       "max       80.000000\n",
       "Name: Age, dtype: float64"
      ]
     },
     "execution_count": 7,
     "metadata": {},
     "output_type": "execute_result"
    }
   ],
   "source": [
    "# 对年龄进行中位数填充，直接使用性别分组，统计各个性别年龄中位数进行填充，按照性别来分组，这样统计年龄相对来说比较合理\n",
    "age_medians = titanic_df.groupby(\"Sex\").Age.median()\n",
    "print(\"age median:{}\".format(age_medians))\n",
    "titanic_df.set_index(\"Sex\", inplace=True)\n",
    "titanic_df.Age.fillna(age_medians, inplace=True)\n",
    "titanic_df.reset_index(\"Sex\", inplace=True)\n",
    "titanic_df.Age.describe()"
   ]
  },
  {
   "cell_type": "markdown",
   "metadata": {},
   "source": [
    "## 对填充后的年龄数据做直方图分析"
   ]
  },
  {
   "cell_type": "code",
   "execution_count": 8,
   "metadata": {},
   "outputs": [
    {
     "data": {
      "image/png": "[encoded data removed]",
      "text/plain": [
       "<matplotlib.figure.Figure at 0x2049314c0b8>"
      ]
     },
     "metadata": {},
     "output_type": "display_data"
    }
   ],
   "source": [
    "# 对填充后的年龄做一下分布情况统计\n",
    "import seaborn as sns\n",
    "import matplotlib.pyplot as plt\n",
    "import matplotlib.mlab as mlab\n",
    "\n",
    "#据上面的统计，年龄最小的是几个月，最大的是80谁，所以对直方图，设计如下20个区间\n",
    "num_bins=20\n",
    "describe = titanic_df.Age.describe()\n",
    "segma = describe['std']\n",
    "mu = describe['mean']\n",
    "plt.close(\"all\")\n",
    "_, bins, _ = plt.hist(titanic_df.Age, normed=1, bins=num_bins, color=\"blue\")\n",
    "# 拟合一条正态曲线\n",
    "line = mlab.normpdf(bins, mu, segma)\n",
    "plt.plot(bins, line, \"red\")\n",
    "plt.show()"
   ]
  },
  {
   "cell_type": "markdown",
   "metadata": {},
   "source": [
    "从直方图并结合当时的历史环境来看，填充还是比较符合预期\n",
    "- 20-30岁的青壮、中年占比较多，这部分年龄阶层比较适合长途旅行、商务出行\n",
    "- 符合当时社会年龄层次分布"
   ]
  },
  {
   "cell_type": "markdown",
   "metadata": {},
   "source": [
    "## 统计从不同港口登船的人数占比"
   ]
  },
  {
   "cell_type": "code",
   "execution_count": 9,
   "metadata": {},
   "outputs": [
    {
     "data": {
      "image/png": "[encoded data removed]",
      "text/plain": [
       "<matplotlib.figure.Figure at 0x20492041160>"
      ]
     },
     "metadata": {},
     "output_type": "display_data"
    }
   ],
   "source": [
    "sns.set(color_codes=True)\n",
    "plt.close('all')\n",
    "embarked_total = titanic_df.groupby('Embarked').count()\n",
    "# 生成饼图\n",
    "labels = ['Cherbourg', 'Queenstown', 'Southampton', 'Unknown']\n",
    "embarked_total.plot.pie(y='PassengerId', labels=labels, autopct='%1.2f%%')\n",
    "plt.ylabel('Embarked Total')\n",
    "plt.show()"
   ]
  },
  {
   "cell_type": "markdown",
   "metadata": {},
   "source": [
    "<pre>从上图说得，很多旅客是从Southampton登船，其次是Cherbourg，再次是Queenstown，还有两位旅客未知\n",
    "也因为Southampton是泰坦尼克号的启航地，所以登船人数最多\n",
    "<pre>\n",
    "[参考文献](https://zh.wikipedia.org/wiki/%E6%B3%B0%E5%9D%A6%E5%B0%BC%E5%85%8B%E5%8F%B7)"
   ]
  },
  {
   "cell_type": "code",
   "execution_count": 44,
   "metadata": {},
   "outputs": [],
   "source": [
    "def multi_index_groupby_count(index_names, g_as_index=False, ret_cols_names=None):\n",
    "    if ret_cols_names is not None:\n",
    "        return titanic_df.groupby(index_names, as_index=g_as_index).count()[ret_cols_names]\n",
    "    else:\n",
    "        return titanic_df.groupby(index_names, as_index=g_as_index).count()\n",
    "\n",
    "def get_index_byvalue(df, index_name, by_val, ret_cols_names=None):\n",
    "    if ret_cols_names is not None:\n",
    "        return df.loc[df[index_name] == by_val][ret_cols_names]\n",
    "    else:\n",
    "        return df.loc[df[index_name] == by_val]"
   ]
  },
  {
   "cell_type": "markdown",
   "metadata": {},
   "source": [
    "## 问题1: 仓位等级是否和幸存相关？"
   ]
  },
  {
   "cell_type": "code",
   "execution_count": 50,
   "metadata": {},
   "outputs": [
    {
     "name": "stdout",
     "output_type": "stream",
     "text": [
      "统计各等级仓位的总人数：\n",
      "   Pclass  PassengerId\n",
      "0       1          216\n",
      "1       2          184\n",
      "2       3          491\n",
      "---------------------------------\n",
      "   Pclass  PassengerId     ratio\n",
      "0       1           80  0.370370\n",
      "2       2           97  0.527174\n",
      "4       3          372  0.757637\n",
      "   Pclass  PassengerId     ratio\n",
      "1       1          136  0.629630\n",
      "3       2           87  0.472826\n",
      "5       3          119  0.242363\n"
     ]
    }
   ],
   "source": [
    "survived_total = multi_index_groupby_count([\"Pclass\", \"Survived\"], False)\n",
    "pclass_count = multi_index_groupby_count([\"Pclass\"], False, [\"Pclass\", \"PassengerId\"])\n",
    "\n",
    "print(\"统计各等级仓位的总人数：\")\n",
    "print(pclass_count)\n",
    "print(\"---------------------------------\")\n",
    "\n",
    "# 把survived_total数据分成两组，一组只有幸存统计，一组只有死亡人数统计\n",
    "not_surviveds = get_index_byvalue(survived_total, 'Survived', 0, [\"Pclass\", \"PassengerId\"])\n",
    "surviveds = get_index_byvalue(survived_total, 'Survived', 1, [\"Pclass\", \"PassengerId\"])\n",
    "\n",
    "def div_by_cols_val(df, cols_name, map_df, map_cols_name):\n",
    "    return df[cols_name].div(df[map_cols_name].map(map_df.set_index(map_cols_name)[cols_name]))\n",
    "\n",
    "# print(div_by_cols_val(not_surviveds, \"PassengerId\", pclass_count, \"Pclass\"))\n",
    "\n",
    "not_surviveds['ratio'] = div_by_cols_val(not_surviveds, \"PassengerId\", pclass_count, \"Pclass\")\n",
    "surviveds['ratio'] = div_by_cols_val(surviveds, \"PassengerId\", pclass_count, \"Pclass\")\n",
    "print(not_surviveds)\n",
    "print(surviveds)"
   ]
  },
  {
   "cell_type": "code",
   "execution_count": 51,
   "metadata": {},
   "outputs": [
    {
     "data": {
      "image/png": "[encoded data removed]",
      "text/plain": [
       "<matplotlib.figure.Figure at 0x20495827a58>"
      ]
     },
     "metadata": {},
     "output_type": "display_data"
    }
   ],
   "source": [
    "# 绘制比例图形对比结果\n",
    "from matplotlib.ticker import FuncFormatter\n",
    "\n",
    "plt.close(\"all\")\n",
    "def to_percent(y, position):\n",
    "    return str(100 * y) + '%'\n",
    "formatter = FuncFormatter(to_percent)\n",
    "p1 = plt.plot(not_surviveds.Pclass, not_surviveds.ratio, \"r-o\")\n",
    "p2 = plt.plot(surviveds.Pclass, surviveds.ratio, \"b-o\")\n",
    "x_labels = [\"Upper\", \"Middle\", \"Lower\"]\n",
    "plt.xticks(not_surviveds.Pclass, x_labels)\n",
    "plt.ylabel(\"Ratio\")\n",
    "plt.legend((p1[0], p2[0]), (\"Not Survived\", \"Survived\"))\n",
    "plt.gca().yaxis.set_major_formatter(formatter)\n",
    "plt.show()"
   ]
  },
  {
   "cell_type": "markdown",
   "metadata": {},
   "source": [
    "从上图可以看出：\n",
    "- 生还率在阶级层面来看非常分明\n",
    "- 越是头等舱的乘客越优先获救，头等舱的乘客接近63%被救出\n",
    "- 3等仓虽然人数众多，但是也接近76%的人没有获救。"
   ]
  },
  {
   "cell_type": "markdown",
   "metadata": {},
   "source": [
    "## 幸存和性别是否相关？"
   ]
  },
  {
   "cell_type": "code",
   "execution_count": 52,
   "metadata": {},
   "outputs": [
    {
     "data": {
      "text/html": [
       "<div>\n",
       "<style scoped>\n",
       "    .dataframe tbody tr th:only-of-type {\n",
       "        vertical-align: middle;\n",
       "    }\n",
       "\n",
       "    .dataframe tbody tr th {\n",
       "        vertical-align: top;\n",
       "    }\n",
       "\n",
       "    .dataframe thead th {\n",
       "        text-align: right;\n",
       "    }\n",
       "</style>\n",
       "<table border=\"1\" class=\"dataframe\">\n",
       "  <thead>\n",
       "    <tr style=\"text-align: right;\">\n",
       "      <th></th>\n",
       "      <th>Sex</th>\n",
       "      <th>Survived</th>\n",
       "      <th>PassengerId</th>\n",
       "      <th>ratio</th>\n",
       "    </tr>\n",
       "  </thead>\n",
       "  <tbody>\n",
       "    <tr>\n",
       "      <th>0</th>\n",
       "      <td>female</td>\n",
       "      <td>0</td>\n",
       "      <td>81</td>\n",
       "      <td>0.257962</td>\n",
       "    </tr>\n",
       "    <tr>\n",
       "      <th>1</th>\n",
       "      <td>female</td>\n",
       "      <td>1</td>\n",
       "      <td>233</td>\n",
       "      <td>0.742038</td>\n",
       "    </tr>\n",
       "    <tr>\n",
       "      <th>2</th>\n",
       "      <td>male</td>\n",
       "      <td>0</td>\n",
       "      <td>468</td>\n",
       "      <td>0.811092</td>\n",
       "    </tr>\n",
       "    <tr>\n",
       "      <th>3</th>\n",
       "      <td>male</td>\n",
       "      <td>1</td>\n",
       "      <td>109</td>\n",
       "      <td>0.188908</td>\n",
       "    </tr>\n",
       "  </tbody>\n",
       "</table>\n",
       "</div>"
      ],
      "text/plain": [
       "      Sex  Survived  PassengerId     ratio\n",
       "0  female         0           81  0.257962\n",
       "1  female         1          233  0.742038\n",
       "2    male         0          468  0.811092\n",
       "3    male         1          109  0.188908"
      ]
     },
     "execution_count": 52,
     "metadata": {},
     "output_type": "execute_result"
    }
   ],
   "source": [
    "# 获取不同性别的幸存情况\n",
    "sex_survived_total = multi_index_groupby_count([\"Sex\", \"Survived\"], False, ['Sex', 'Survived', 'PassengerId'])\n",
    "sex_total = multi_index_groupby_count(\"Sex\", False, ['Sex', 'PassengerId'])\n",
    "sex_survived_total['ratio']=div_by_cols_val(sex_survived_total, \"PassengerId\", sex_total, 'Sex')\n",
    "sex_survived_total"
   ]
  },
  {
   "cell_type": "code",
   "execution_count": 66,
   "metadata": {},
   "outputs": [
    {
     "data": {
      "image/png": "[encoded data removed]",
      "text/plain": [
       "<matplotlib.figure.Figure at 0x20494b981d0>"
      ]
     },
     "metadata": {},
     "output_type": "display_data"
    }
   ],
   "source": [
    "# 画图\n",
    "female_ratio = sex_survived_total.loc[sex_survived_total['Sex']=='female']\n",
    "male_ratio = sex_survived_total.loc[sex_survived_total['Sex']=='male']\n",
    "\n",
    "def create_bar_plot(df1, df2, cols_name, xlabels=None, ylabel=None, bar_width=0.3, df1_label=None, df2_label=None, legend_names=None):\n",
    "    arange = np.arange(df1[cols_name].count())\n",
    "    p1 = plt.bar(arange, df1[cols_name], bar_width, color=\"r\", label=df1_label)\n",
    "    p2 = plt.bar(arange+bar_width, df2[cols_name], bar_width, color=\"b\", label=df2_label)\n",
    "    x_labels = xlabels\n",
    "    plt.xticks(arange + bar_width/2, x_labels)\n",
    "    plt.ylabel(ylabel)\n",
    "    plt.legend((p1[0], p2[0]), legend_names)\n",
    "    plt.gca().yaxis.set_major_formatter(formatter)\n",
    "    plt.show()\n",
    "    \n",
    "create_bar_plot(female_ratio, male_ratio, \"ratio\", [\"Not Survived\", \"Survived\"], ylabel=\"Ratio\", df1_label=\"female\", df2_label=\"male\", legend_names=(\"female\", \"male\"))"
   ]
  },
  {
   "cell_type": "markdown",
   "metadata": {},
   "source": [
    "女性的幸存比例是男性的3倍有多，可以看出当时欧洲的绅士风度在危难时候依然起作用，大部分女性乘客都优先登上救生艇离开了。"
   ]
  },
  {
   "cell_type": "markdown",
   "metadata": {},
   "source": [
    "## 年龄和幸存是否相关?\n",
    "把年龄分成9组：\n",
    "- 小于10岁，A组\n",
    "- 10-20岁，B组\n",
    "- 20-30岁，C组\n",
    "- 30-40岁，D组\n",
    "- 40-50岁，E组\n",
    "- 50-60岁，F组\n",
    "- 60-70岁，G组\n",
    "- 70-80岁，H组\n",
    "- 大于80岁,G组"
   ]
  },
  {
   "cell_type": "code",
   "execution_count": 57,
   "metadata": {},
   "outputs": [],
   "source": [
    "# 年龄分段函数\n",
    "def change_Age_group(val):\n",
    "    if val <= 10:\n",
    "        return 'A'\n",
    "    if val > 10 and val <= 20:\n",
    "        return 'B'\n",
    "    if val > 20 and val <= 30:\n",
    "        return 'C'\n",
    "    if val > 30 and val <= 40:\n",
    "        return 'D'\n",
    "    if val > 40 and val <= 50:\n",
    "        return 'E'\n",
    "    if val > 50 and val <= 60:\n",
    "        return 'F'\n",
    "    if val > 60 and val <= 70:\n",
    "        return 'G'\n",
    "    if val > 70 and val <= 80:\n",
    "        return 'H'\n",
    "    if val > 80:\n",
    "        return 'G'\n",
    "titanic_df['Age_Level'] = titanic_df.Age.apply(change_Age_group)"
   ]
  },
  {
   "cell_type": "code",
   "execution_count": 75,
   "metadata": {},
   "outputs": [
    {
     "name": "stdout",
     "output_type": "stream",
     "text": [
      "   Survived Age_Level  PassengerId  survived_ratio\n",
      "0         0         A           26        0.406250\n",
      "1         0         B           71        0.617391\n",
      "2         0         C          271        0.665848\n",
      "3         0         D           86        0.554839\n",
      "4         0         E           53        0.616279\n",
      "5         0         F           25        0.595238\n",
      "6         0         G           13        0.764706\n",
      "7         0         H            4        0.800000\n"
     ]
    },
    {
     "data": {
      "image/png": "[encoded data removed]",
      "text/plain": [
       "<matplotlib.figure.Figure at 0x20494fb3c18>"
      ]
     },
     "metadata": {},
     "output_type": "display_data"
    }
   ],
   "source": [
    "s_age_group = multi_index_groupby_count(['Survived', 'Age_Level'], False, ['Survived', 'Age_Level', 'PassengerId'])\n",
    "age_count = multi_index_groupby_count('Age_Level', False, ['Age_Level', 'PassengerId'])\n",
    "s_age_group['survived_ratio'] = div_by_cols_val(s_age_group, 'PassengerId', map_df=age_count, map_cols_name='Age_Level')\n",
    "\n",
    "# 数据分组\n",
    "ns_df = s_age_group.loc[s_age_group['Survived'] == 0]\n",
    "s_df = s_age_group.loc[s_age_group['Survived'] == 1]\n",
    "print(ns_df)\n",
    "\n",
    "# x轴标签\n",
    "x_labels=[\"0-10\", \"10-20\", \"20-30\", \"30-40\", \"40-50\", \"50-60\", \"60-70\", \"70-80\"]\n",
    "cols_name = \"survived_ratio\"\n",
    "ylabel=\"Ratio\"\n",
    "df1_label=\"Not Survived\", \n",
    "df2_label=\"Survived\", \n",
    "legend_names=(\"Not Survived\", \"Survived\")\n",
    "create_bar_plot(ns_df, s_df, cols_name, x_labels, ylabel=ylabel, df1_label=df1_label, df2_label=df2_label, legend_names=legend_names)"
   ]
  },
  {
   "cell_type": "markdown",
   "metadata": {},
   "source": [
    "从幸存率来看，年龄越小，幸存率越高（蓝色部分）。\n",
    "但是0-10岁的死亡率相对于自身来说，还是有点高，从上面的统计可以看出，大概有26名儿童是没有被救的。\n",
    "\n",
    "## 为什么0-10有40%的儿童没有幸存下来？"
   ]
  },
  {
   "cell_type": "code",
   "execution_count": null,
   "metadata": {},
   "outputs": [],
   "source": []
  }
 ],
 "metadata": {
  "kernelspec": {
   "display_name": "Python 3",
   "language": "python",
   "name": "python3"
  },
  "language_info": {
   "codemirror_mode": {
    "name": "ipython",
    "version": 3
   },
   "file_extension": ".py",
   "mimetype": "text/x-python",
   "name": "python",
   "nbconvert_exporter": "python",
   "pygments_lexer": "ipython3",
   "version": "3.6.3"
  }
 },
 "nbformat": 4,
 "nbformat_minor": 2
}
