{
 "cells": [
  {
   "cell_type": "markdown",
   "metadata": {},
   "source": [
    "# 介绍\n",
    "\n",
    "泰坦尼克号（英语：RMS Titanic）是一艘奥林匹克级邮轮，于1912年4月首航时撞上冰山后沉没。泰坦尼克号是同级的3艘超级邮轮中的第2艘，与姐妹船奥林匹克号和不列颠号为白星航运公司的乘客们提供大西洋旅行。\n",
    "\n",
    "泰坦尼克号由位于北爱尔兰贝尔法斯特的哈兰·沃尔夫船厂兴建，是当时最大的客运轮船，由于其规模相当一艘现代航空母舰，因而号称“上帝也沉没不了的巨型邮轮”。在泰坦尼克号的首航中，从英国南安普敦出发，途经法国瑟堡-奥克特维尔以及爱尔兰昆士敦，计划横渡大西洋前往美国纽约市。但因为人为错误，于1912年4月14日船上时间夜里11点40分撞上冰山；2小时40分钟后，即4月15日凌晨02点20分，船裂成两半后沉入大西洋，死亡人数超越1500人，堪称20世纪最大的海难事件，同时也是最广为人知的海难之一。\n",
    "\n",
    "本次分析的数据是泰坦尼克号事故的样本数据。"
   ]
  },
  {
   "cell_type": "markdown",
   "metadata": {},
   "source": [
    "----\n",
    "# 加载csv数据"
   ]
  },
  {
   "cell_type": "code",
   "execution_count": 119,
   "metadata": {},
   "outputs": [
    {
     "data": {
      "text/html": [
       "<div>\n",
       "<style scoped>\n",
       "    .dataframe tbody tr th:only-of-type {\n",
       "        vertical-align: middle;\n",
       "    }\n",
       "\n",
       "    .dataframe tbody tr th {\n",
       "        vertical-align: top;\n",
       "    }\n",
       "\n",
       "    .dataframe thead th {\n",
       "        text-align: right;\n",
       "    }\n",
       "</style>\n",
       "<table border=\"1\" class=\"dataframe\">\n",
       "  <thead>\n",
       "    <tr style=\"text-align: right;\">\n",
       "      <th></th>\n",
       "      <th>PassengerId</th>\n",
       "      <th>Survived</th>\n",
       "      <th>Pclass</th>\n",
       "      <th>Name</th>\n",
       "      <th>Sex</th>\n",
       "      <th>Age</th>\n",
       "      <th>SibSp</th>\n",
       "      <th>Parch</th>\n",
       "      <th>Ticket</th>\n",
       "      <th>Fare</th>\n",
       "      <th>Cabin</th>\n",
       "      <th>Embarked</th>\n",
       "    </tr>\n",
       "  </thead>\n",
       "  <tbody>\n",
       "    <tr>\n",
       "      <th>0</th>\n",
       "      <td>1</td>\n",
       "      <td>0</td>\n",
       "      <td>3</td>\n",
       "      <td>Braund, Mr. Owen Harris</td>\n",
       "      <td>male</td>\n",
       "      <td>22.0</td>\n",
       "      <td>1</td>\n",
       "      <td>0</td>\n",
       "      <td>A/5 21171</td>\n",
       "      <td>7.2500</td>\n",
       "      <td>NaN</td>\n",
       "      <td>S</td>\n",
       "    </tr>\n",
       "    <tr>\n",
       "      <th>1</th>\n",
       "      <td>2</td>\n",
       "      <td>1</td>\n",
       "      <td>1</td>\n",
       "      <td>Cumings, Mrs. John Bradley (Florence Briggs Th...</td>\n",
       "      <td>female</td>\n",
       "      <td>38.0</td>\n",
       "      <td>1</td>\n",
       "      <td>0</td>\n",
       "      <td>PC 17599</td>\n",
       "      <td>71.2833</td>\n",
       "      <td>C85</td>\n",
       "      <td>C</td>\n",
       "    </tr>\n",
       "    <tr>\n",
       "      <th>2</th>\n",
       "      <td>3</td>\n",
       "      <td>1</td>\n",
       "      <td>3</td>\n",
       "      <td>Heikkinen, Miss. Laina</td>\n",
       "      <td>female</td>\n",
       "      <td>26.0</td>\n",
       "      <td>0</td>\n",
       "      <td>0</td>\n",
       "      <td>STON/O2. 3101282</td>\n",
       "      <td>7.9250</td>\n",
       "      <td>NaN</td>\n",
       "      <td>S</td>\n",
       "    </tr>\n",
       "    <tr>\n",
       "      <th>3</th>\n",
       "      <td>4</td>\n",
       "      <td>1</td>\n",
       "      <td>1</td>\n",
       "      <td>Futrelle, Mrs. Jacques Heath (Lily May Peel)</td>\n",
       "      <td>female</td>\n",
       "      <td>35.0</td>\n",
       "      <td>1</td>\n",
       "      <td>0</td>\n",
       "      <td>113803</td>\n",
       "      <td>53.1000</td>\n",
       "      <td>C123</td>\n",
       "      <td>S</td>\n",
       "    </tr>\n",
       "    <tr>\n",
       "      <th>4</th>\n",
       "      <td>5</td>\n",
       "      <td>0</td>\n",
       "      <td>3</td>\n",
       "      <td>Allen, Mr. William Henry</td>\n",
       "      <td>male</td>\n",
       "      <td>35.0</td>\n",
       "      <td>0</td>\n",
       "      <td>0</td>\n",
       "      <td>373450</td>\n",
       "      <td>8.0500</td>\n",
       "      <td>NaN</td>\n",
       "      <td>S</td>\n",
       "    </tr>\n",
       "  </tbody>\n",
       "</table>\n",
       "</div>"
      ],
      "text/plain": [
       "   PassengerId  Survived  Pclass  \\\n",
       "0            1         0       3   \n",
       "1            2         1       1   \n",
       "2            3         1       3   \n",
       "3            4         1       1   \n",
       "4            5         0       3   \n",
       "\n",
       "                                                Name     Sex   Age  SibSp  \\\n",
       "0                            Braund, Mr. Owen Harris    male  22.0      1   \n",
       "1  Cumings, Mrs. John Bradley (Florence Briggs Th...  female  38.0      1   \n",
       "2                             Heikkinen, Miss. Laina  female  26.0      0   \n",
       "3       Futrelle, Mrs. Jacques Heath (Lily May Peel)  female  35.0      1   \n",
       "4                           Allen, Mr. William Henry    male  35.0      0   \n",
       "\n",
       "   Parch            Ticket     Fare Cabin Embarked  \n",
       "0      0         A/5 21171   7.2500   NaN        S  \n",
       "1      0          PC 17599  71.2833   C85        C  \n",
       "2      0  STON/O2. 3101282   7.9250   NaN        S  \n",
       "3      0            113803  53.1000  C123        S  \n",
       "4      0            373450   8.0500   NaN        S  "
      ]
     },
     "execution_count": 119,
     "metadata": {},
     "output_type": "execute_result"
    }
   ],
   "source": [
    "import pandas as pd\n",
    "import numpy as np\n",
    "\n",
    "titanic_df = pd.read_csv('./titanic-data.csv')\n",
    "titanic_df.head()"
   ]
  },
  {
   "cell_type": "markdown",
   "metadata": {},
   "source": [
    "# 数据处理"
   ]
  },
  {
   "cell_type": "markdown",
   "metadata": {},
   "source": [
    "## 是否存在缺失字段"
   ]
  },
  {
   "cell_type": "code",
   "execution_count": 120,
   "metadata": {},
   "outputs": [
    {
     "data": {
      "text/plain": [
       "PassengerId    0.000000\n",
       "Survived       0.000000\n",
       "Pclass         0.000000\n",
       "Name           0.000000\n",
       "Sex            0.000000\n",
       "Age            0.198653\n",
       "SibSp          0.000000\n",
       "Parch          0.000000\n",
       "Ticket         0.000000\n",
       "Fare           0.000000\n",
       "Cabin          0.771044\n",
       "Embarked       0.002245\n",
       "dtype: float64"
      ]
     },
     "execution_count": 120,
     "metadata": {},
     "output_type": "execute_result"
    }
   ],
   "source": [
    "titanic_df.isna().sum()/titanic_df.isna().count()"
   ]
  },
  {
   "cell_type": "markdown",
   "metadata": {},
   "source": [
    "## 删除唔关字段\n",
    "由于Name，Ticket与是否生还没有太大关系，故选择删除，另外仓位其实与是否生还有一定联系，但是从上面统计得知仓位缺失值超过半数，达到77.1%，缺失比例太高，已经没有太大分析意义，故也把该值删除。"
   ]
  },
  {
   "cell_type": "code",
   "execution_count": 121,
   "metadata": {},
   "outputs": [
    {
     "data": {
      "text/html": [
       "<div>\n",
       "<style scoped>\n",
       "    .dataframe tbody tr th:only-of-type {\n",
       "        vertical-align: middle;\n",
       "    }\n",
       "\n",
       "    .dataframe tbody tr th {\n",
       "        vertical-align: top;\n",
       "    }\n",
       "\n",
       "    .dataframe thead th {\n",
       "        text-align: right;\n",
       "    }\n",
       "</style>\n",
       "<table border=\"1\" class=\"dataframe\">\n",
       "  <thead>\n",
       "    <tr style=\"text-align: right;\">\n",
       "      <th></th>\n",
       "      <th>PassengerId</th>\n",
       "      <th>Survived</th>\n",
       "      <th>Pclass</th>\n",
       "      <th>Sex</th>\n",
       "      <th>Age</th>\n",
       "      <th>SibSp</th>\n",
       "      <th>Parch</th>\n",
       "      <th>Fare</th>\n",
       "      <th>Embarked</th>\n",
       "    </tr>\n",
       "  </thead>\n",
       "  <tbody>\n",
       "    <tr>\n",
       "      <th>0</th>\n",
       "      <td>1</td>\n",
       "      <td>0</td>\n",
       "      <td>3</td>\n",
       "      <td>male</td>\n",
       "      <td>22.0</td>\n",
       "      <td>1</td>\n",
       "      <td>0</td>\n",
       "      <td>7.2500</td>\n",
       "      <td>S</td>\n",
       "    </tr>\n",
       "    <tr>\n",
       "      <th>1</th>\n",
       "      <td>2</td>\n",
       "      <td>1</td>\n",
       "      <td>1</td>\n",
       "      <td>female</td>\n",
       "      <td>38.0</td>\n",
       "      <td>1</td>\n",
       "      <td>0</td>\n",
       "      <td>71.2833</td>\n",
       "      <td>C</td>\n",
       "    </tr>\n",
       "    <tr>\n",
       "      <th>2</th>\n",
       "      <td>3</td>\n",
       "      <td>1</td>\n",
       "      <td>3</td>\n",
       "      <td>female</td>\n",
       "      <td>26.0</td>\n",
       "      <td>0</td>\n",
       "      <td>0</td>\n",
       "      <td>7.9250</td>\n",
       "      <td>S</td>\n",
       "    </tr>\n",
       "    <tr>\n",
       "      <th>3</th>\n",
       "      <td>4</td>\n",
       "      <td>1</td>\n",
       "      <td>1</td>\n",
       "      <td>female</td>\n",
       "      <td>35.0</td>\n",
       "      <td>1</td>\n",
       "      <td>0</td>\n",
       "      <td>53.1000</td>\n",
       "      <td>S</td>\n",
       "    </tr>\n",
       "    <tr>\n",
       "      <th>4</th>\n",
       "      <td>5</td>\n",
       "      <td>0</td>\n",
       "      <td>3</td>\n",
       "      <td>male</td>\n",
       "      <td>35.0</td>\n",
       "      <td>0</td>\n",
       "      <td>0</td>\n",
       "      <td>8.0500</td>\n",
       "      <td>S</td>\n",
       "    </tr>\n",
       "  </tbody>\n",
       "</table>\n",
       "</div>"
      ],
      "text/plain": [
       "   PassengerId  Survived  Pclass     Sex   Age  SibSp  Parch     Fare Embarked\n",
       "0            1         0       3    male  22.0      1      0   7.2500        S\n",
       "1            2         1       1  female  38.0      1      0  71.2833        C\n",
       "2            3         1       3  female  26.0      0      0   7.9250        S\n",
       "3            4         1       1  female  35.0      1      0  53.1000        S\n",
       "4            5         0       3    male  35.0      0      0   8.0500        S"
      ]
     },
     "execution_count": 121,
     "metadata": {},
     "output_type": "execute_result"
    }
   ],
   "source": [
    "# 删除Name，Ticket，Cabin，这些数据和生还率好像都没有什么关系，而且Cabin这个字段还记录不全\n",
    "# Ticket这个字段对分析毫无作用\n",
    "del titanic_df['Name']\n",
    "del titanic_df['Ticket']\n",
    "del titanic_df['Cabin']\n",
    "titanic_df.head()"
   ]
  },
  {
   "cell_type": "markdown",
   "metadata": {},
   "source": [
    "## 检查是否存在空值"
   ]
  },
  {
   "cell_type": "code",
   "execution_count": 122,
   "metadata": {},
   "outputs": [
    {
     "data": {
      "text/plain": [
       "PassengerId      0\n",
       "Survived         0\n",
       "Pclass           0\n",
       "Sex              0\n",
       "Age            177\n",
       "SibSp            0\n",
       "Parch            0\n",
       "Fare             0\n",
       "Embarked         2\n",
       "dtype: int64"
      ]
     },
     "execution_count": 122,
     "metadata": {},
     "output_type": "execute_result"
    }
   ],
   "source": [
    "titanic_df.isnull().sum()"
   ]
  },
  {
   "cell_type": "markdown",
   "metadata": {},
   "source": [
    "经过统计，观察到Age存在空值，Embarked存在空值，先把Embarked空值的数据打印出来看看是什么数据"
   ]
  },
  {
   "cell_type": "code",
   "execution_count": 123,
   "metadata": {},
   "outputs": [],
   "source": [
    "# 对登船记录做填充，因为登船记录只有两个数据缺失，所以直接补充为Unknown即可，这两个数据对分析关系不是很大\n",
    "titanic_df.Embarked.fillna(\"Unknown\", inplace=True)"
   ]
  },
  {
   "cell_type": "code",
   "execution_count": 124,
   "metadata": {},
   "outputs": [
    {
     "data": {
      "text/plain": [
       "count    714.000000\n",
       "mean      29.699118\n",
       "std       14.526497\n",
       "min        0.420000\n",
       "25%       20.125000\n",
       "50%       28.000000\n",
       "75%       38.000000\n",
       "max       80.000000\n",
       "Name: Age, dtype: float64"
      ]
     },
     "execution_count": 124,
     "metadata": {},
     "output_type": "execute_result"
    }
   ],
   "source": [
    "# 因为年龄缺失值在20%左右，而且据当时历史了解，年龄层次不同与生还直接相关，所有有必要对年龄进行一些填补\n",
    "# 统计以下填充前的年龄分布情况\n",
    "titanic_df.Age.describe()"
   ]
  },
  {
   "cell_type": "code",
   "execution_count": 125,
   "metadata": {},
   "outputs": [
    {
     "name": "stdout",
     "output_type": "stream",
     "text": [
      "age median:Sex\n",
      "female    27.0\n",
      "male      29.0\n",
      "Name: Age, dtype: float64\n"
     ]
    },
    {
     "data": {
      "text/plain": [
       "count    891.000000\n",
       "mean      29.441268\n",
       "std       13.018747\n",
       "min        0.420000\n",
       "25%       22.000000\n",
       "50%       29.000000\n",
       "75%       35.000000\n",
       "max       80.000000\n",
       "Name: Age, dtype: float64"
      ]
     },
     "execution_count": 125,
     "metadata": {},
     "output_type": "execute_result"
    }
   ],
   "source": [
    "# 对年龄进行中位数填充，直接使用性别分组，统计各个性别年龄中位数进行填充，按照性别来分组，这样统计年龄相对来说比较合理\n",
    "age_medians = titanic_df.groupby(\"Sex\").Age.median()\n",
    "print(\"age median:{}\".format(age_medians))\n",
    "titanic_df.set_index(\"Sex\", inplace=True)\n",
    "titanic_df.Age.fillna(age_medians, inplace=True)\n",
    "titanic_df.reset_index(\"Sex\", inplace=True)\n",
    "titanic_df.Age.describe()"
   ]
  },
  {
   "cell_type": "markdown",
   "metadata": {},
   "source": [
    "## 对填充后的年龄数据做直方图分析"
   ]
  },
  {
   "cell_type": "code",
   "execution_count": 126,
   "metadata": {},
   "outputs": [
    {
     "data": {
      "image/png": "[encoded data removed]",
      "text/plain": [
       "<matplotlib.figure.Figure at 0x1b995b31ef0>"
      ]
     },
     "metadata": {},
     "output_type": "display_data"
    }
   ],
   "source": [
    "# 对填充后的年龄做一下分布情况统计\n",
    "import seaborn as sns\n",
    "import matplotlib.pyplot as plt\n",
    "import matplotlib.mlab as mlab\n",
    "\n",
    "#据上面的统计，年龄最小的是几个月，最大的是80谁，所以对直方图，设计如下20个区间\n",
    "num_bins=20\n",
    "describe = titanic_df.Age.describe()\n",
    "segma = describe['std']\n",
    "mu = describe['mean']\n",
    "plt.close(\"all\")\n",
    "_, bins, _ = plt.hist(titanic_df.Age, normed=1, bins=num_bins, color=\"blue\")\n",
    "# 拟合一条正态曲线\n",
    "line = mlab.normpdf(bins, mu, segma)\n",
    "plt.plot(bins, line, \"red\")\n",
    "plt.show()"
   ]
  },
  {
   "cell_type": "markdown",
   "metadata": {},
   "source": [
    "从直方图并结合当时的历史环境来看，填充还是比较符合预期\n",
    "- 20-30岁的青壮、中年占比较多，这部分年龄阶层比较适合长途旅行、商务出行\n",
    "- 符合当时社会年龄层次分布"
   ]
  },
  {
   "cell_type": "markdown",
   "metadata": {},
   "source": [
    "## 年龄分段处理\n",
    "把年龄分成9组：\n",
    "- 小于10岁，A组\n",
    "- 10-20岁，B组\n",
    "- 20-30岁，C组\n",
    "- 30-40岁，D组\n",
    "- 40-50岁，E组\n",
    "- 50-60岁，F组\n",
    "- 60-70岁，G组\n",
    "- 70-80岁，H组\n",
    "- 大于80岁,G组"
   ]
  },
  {
   "cell_type": "code",
   "execution_count": 127,
   "metadata": {},
   "outputs": [
    {
     "data": {
      "text/plain": [
       "Age_group\n",
       "(0, 10]      64\n",
       "(10, 20]    115\n",
       "(20, 30]    407\n",
       "(30, 40]    155\n",
       "(40, 50]     86\n",
       "(50, 60]     42\n",
       "(60, 70]     17\n",
       "(70, 80]      5\n",
       "Name: PassengerId, dtype: int64"
      ]
     },
     "execution_count": 127,
     "metadata": {},
     "output_type": "execute_result"
    }
   ],
   "source": [
    "bins = np.arange(0, 90, 10)\n",
    "titanic_df[\"Age_group\"] = pd.cut(titanic_df.Age, bins)\n",
    "titanic_df.groupby(\"Age_group\")[\"PassengerId\"].count()"
   ]
  },
  {
   "cell_type": "markdown",
   "metadata": {},
   "source": [
    "## 对乘客是否结伴而行进行分组"
   ]
  },
  {
   "cell_type": "code",
   "execution_count": 128,
   "metadata": {},
   "outputs": [],
   "source": [
    "def transform_sp(val):\n",
    "    if val > 0:\n",
    "        return 'Y'#结伴而行的\n",
    "    else:\n",
    "        return 'N'#没有结伴而行的\n",
    "    \n",
    "titanic_df[\"sp_type\"] = titanic_df.SibSp.add(titanic_df.Parch).apply(transform_sp)"
   ]
  },
  {
   "cell_type": "markdown",
   "metadata": {},
   "source": [
    "----\n",
    "# 数据分析"
   ]
  },
  {
   "cell_type": "markdown",
   "metadata": {},
   "source": [
    "## 统计从不同港口登船的人数占比"
   ]
  },
  {
   "cell_type": "code",
   "execution_count": 129,
   "metadata": {},
   "outputs": [
    {
     "data": {
      "image/png": "[encoded data removed]",
      "text/plain": [
       "<matplotlib.figure.Figure at 0x1b9952571d0>"
      ]
     },
     "metadata": {},
     "output_type": "display_data"
    }
   ],
   "source": [
    "sns.set(color_codes=True)\n",
    "plt.close('all')\n",
    "embarked_total = titanic_df.groupby('Embarked').count()\n",
    "# 生成饼图\n",
    "labels = ['Cherbourg', 'Queenstown', 'Southampton', 'Unknown']\n",
    "embarked_total.plot.pie(y='PassengerId', labels=labels, autopct='%1.2f%%')\n",
    "plt.ylabel('Embarked Total')\n",
    "plt.show()"
   ]
  },
  {
   "cell_type": "markdown",
   "metadata": {},
   "source": [
    "<pre>从上图说得，很多旅客是从Southampton登船，其次是Cherbourg，再次是Queenstown，还有两位旅客未知\n",
    "也因为Southampton是泰坦尼克号的启航地，所以登船人数最多\n",
    "<pre>"
   ]
  },
  {
   "cell_type": "code",
   "execution_count": 130,
   "metadata": {},
   "outputs": [],
   "source": [
    "# 多索引统计\n",
    "def multi_index_groupby_count(index_names, g_as_index=False, ret_cols_names=None):\n",
    "    if ret_cols_names is not None:\n",
    "        return titanic_df.groupby(index_names, as_index=g_as_index).count()[ret_cols_names]\n",
    "    else:\n",
    "        return titanic_df.groupby(index_names, as_index=g_as_index).count()\n",
    "\n",
    "# 根据索引某个值，获取行\n",
    "def get_index_byvalue(df, index_name, by_val, ret_cols_names=None):\n",
    "    if ret_cols_names is not None:\n",
    "        return df.loc[df[index_name] == by_val][ret_cols_names]\n",
    "    else:\n",
    "        return df.loc[df[index_name] == by_val]\n",
    "    \n",
    "def indexs_group_by(index_names, g_as_index=True, ret_cols_names=None):\n",
    "    if ret_cols_names is not None:\n",
    "        return titanic_df.groupby(index_names, as_index=g_as_index)[ret_cols_names]\n",
    "    else:\n",
    "        return titanic_df.groupby(index_names, as_index=g_as_index)"
   ]
  },
  {
   "cell_type": "markdown",
   "metadata": {},
   "source": [
    "## 问题1: 仓位等级是否和幸存相关？"
   ]
  },
  {
   "cell_type": "code",
   "execution_count": 131,
   "metadata": {},
   "outputs": [],
   "source": [
    "def div_by_cols_val(df, cols_name, map_df, map_cols_name):\n",
    "    return df[cols_name].div(df[map_cols_name].map(map_df.set_index(map_cols_name)[cols_name]))\n",
    "\n",
    "def not_survived_cal(val):\n",
    "    return 1 - val\n",
    "\n",
    "surviveds = titanic_df.groupby(\"Pclass\").Survived.mean()\n",
    "not_surviveds = surviveds.apply(not_survived_cal)"
   ]
  },
  {
   "cell_type": "code",
   "execution_count": 132,
   "metadata": {},
   "outputs": [
    {
     "data": {
      "image/png": "[encoded data removed]",
      "text/plain": [
       "<matplotlib.figure.Figure at 0x1b9954f9c18>"
      ]
     },
     "metadata": {},
     "output_type": "display_data"
    }
   ],
   "source": [
    "# 绘制比例图形对比结果\n",
    "from matplotlib.ticker import FuncFormatter\n",
    "\n",
    "plt.close(\"all\")\n",
    "def to_percent(y, position):\n",
    "    return str(100 * y) + '%'\n",
    "\n",
    "formatter = FuncFormatter(to_percent)\n",
    "\n",
    "def create_bar_plot(df1, df2, xlabels=None, ylabel=None, bar_width=0.3, legend_names=None, title=None):\n",
    "    arange = np.arange(df1.count())\n",
    "    p1 = plt.bar(arange, df1, bar_width, color=\"r\")\n",
    "    p2 = plt.bar(arange+bar_width, df2, bar_width, color=\"b\")\n",
    "    x_labels = xlabels\n",
    "    plt.xticks(arange + bar_width/2, x_labels)\n",
    "    plt.ylabel(ylabel)\n",
    "    plt.title(title)\n",
    "    plt.legend((p1[0], p2[0]), legend_names)\n",
    "    plt.gca().yaxis.set_major_formatter(formatter)\n",
    "    plt.show()\n",
    "\n",
    "x_labels = [\"Upper\", \"Middle\", \"Lower\"]\n",
    "\n",
    "create_bar_plot(not_surviveds, surviveds, x_labels, \"Ratio\", legend_names=(\"Not Survived\", \"Survived\"), title=\"Pclass VS Survived\")"
   ]
  },
  {
   "cell_type": "markdown",
   "metadata": {},
   "source": [
    "从上图可以看出：\n",
    "- 生还率在阶级层面来看非常分明\n",
    "- 越是头等舱的乘客越优先获救，头等舱的乘客接近63%被救出\n",
    "- 3等仓虽然人数众多，但是也接近76%的人没有获救。"
   ]
  },
  {
   "cell_type": "markdown",
   "metadata": {},
   "source": [
    "## 幸存和性别是否相关？"
   ]
  },
  {
   "cell_type": "code",
   "execution_count": 133,
   "metadata": {},
   "outputs": [
    {
     "data": {
      "image/png": "[encoded data removed]",
      "text/plain": [
       "<matplotlib.figure.Figure at 0x1b995cad9e8>"
      ]
     },
     "metadata": {},
     "output_type": "display_data"
    }
   ],
   "source": [
    "sex_total = indexs_group_by(\"Sex\", ret_cols_names=\"Survived\")\n",
    "sex_surviveds = sex_total.mean()\n",
    "sex_not_surviveds = sex_surviveds.apply(not_survived_cal)\n",
    "# 画图\n",
    "x_labels = [\"female\", \"male\"]\n",
    "legend_names=(\"Not Survived\", \"Survived\")\n",
    "create_bar_plot(sex_not_surviveds, sex_surviveds, xlabels=x_labels, ylabel=\"Ratio\", legend_names=legend_names, title=\"Sex VS Survived\")"
   ]
  },
  {
   "cell_type": "markdown",
   "metadata": {},
   "source": [
    "女性的幸存比例是男性的3倍有多，可以看出当时欧洲的绅士风度在危难时候依然起作用，大部分女性乘客都优先登上救生艇离开了。"
   ]
  },
  {
   "cell_type": "markdown",
   "metadata": {},
   "source": [
    "## 年龄和幸存是否相关?"
   ]
  },
  {
   "cell_type": "code",
   "execution_count": 134,
   "metadata": {},
   "outputs": [
    {
     "data": {
      "image/png": "[encoded data removed]",
      "text/plain": [
       "<matplotlib.figure.Figure at 0x1b99557bd30>"
      ]
     },
     "metadata": {},
     "output_type": "display_data"
    }
   ],
   "source": [
    "age_group_total = indexs_group_by(\"Age_group\", ret_cols_names=\"Survived\")\n",
    "age_group_surviveds = age_group_total.mean()\n",
    "age_group_not_surviveds = age_group_surviveds.apply(not_survived_cal)\n",
    "\n",
    "# x轴标签\n",
    "x_labels=[\"0-10\", \"10-20\", \"20-30\", \"30-40\", \"40-50\", \"50-60\", \"60-70\", \"70-80\"]\n",
    "cols_name = \"survived_ratio\"\n",
    "ylabel=\"Ratio\"\n",
    "legend_names=(\"Not Survived\", \"Survived\")\n",
    "create_bar_plot(age_group_not_surviveds, age_group_surviveds, \\\n",
    "                x_labels, ylabel=ylabel, legend_names=legend_names, title=\"Age VS Survived\")"
   ]
  },
  {
   "cell_type": "markdown",
   "metadata": {},
   "source": [
    "从幸存率来看，年龄越小，幸存率越高（蓝色部分）。\n",
    "\n",
    "但是0-10岁的死亡率相对于自身来说，还是有点高，从上面的统计可以看出，大概有26名儿童是没有被救的。\n",
    "\n",
    "## 为什么0-10岁这个人群，有40%没有幸存下来？"
   ]
  },
  {
   "cell_type": "code",
   "execution_count": 135,
   "metadata": {},
   "outputs": [
    {
     "data": {
      "text/html": [
       "<div>\n",
       "<style scoped>\n",
       "    .dataframe tbody tr th:only-of-type {\n",
       "        vertical-align: middle;\n",
       "    }\n",
       "\n",
       "    .dataframe tbody tr th {\n",
       "        vertical-align: top;\n",
       "    }\n",
       "\n",
       "    .dataframe thead th {\n",
       "        text-align: right;\n",
       "    }\n",
       "</style>\n",
       "<table border=\"1\" class=\"dataframe\">\n",
       "  <thead>\n",
       "    <tr style=\"text-align: right;\">\n",
       "      <th></th>\n",
       "      <th>Survived</th>\n",
       "      <th>Age_group</th>\n",
       "      <th>Pclass</th>\n",
       "      <th>PassengerId</th>\n",
       "    </tr>\n",
       "  </thead>\n",
       "  <tbody>\n",
       "    <tr>\n",
       "      <th>0</th>\n",
       "      <td>0</td>\n",
       "      <td>(0, 10]</td>\n",
       "      <td>1</td>\n",
       "      <td>1.0</td>\n",
       "    </tr>\n",
       "    <tr>\n",
       "      <th>1</th>\n",
       "      <td>0</td>\n",
       "      <td>(0, 10]</td>\n",
       "      <td>2</td>\n",
       "      <td>NaN</td>\n",
       "    </tr>\n",
       "    <tr>\n",
       "      <th>2</th>\n",
       "      <td>0</td>\n",
       "      <td>(0, 10]</td>\n",
       "      <td>3</td>\n",
       "      <td>25.0</td>\n",
       "    </tr>\n",
       "  </tbody>\n",
       "</table>\n",
       "</div>"
      ],
      "text/plain": [
       "   Survived Age_group  Pclass  PassengerId\n",
       "0         0   (0, 10]       1          1.0\n",
       "1         0   (0, 10]       2          NaN\n",
       "2         0   (0, 10]       3         25.0"
      ]
     },
     "execution_count": 135,
     "metadata": {},
     "output_type": "execute_result"
    }
   ],
   "source": [
    "s_age_group2 = multi_index_groupby_count(['Survived', 'Age_group', 'Pclass'], False, ['Survived', 'Age_group', 'Pclass', 'PassengerId'])\n",
    "ns_a = s_age_group2.loc[s_age_group2[\"Survived\"] == 0]\n",
    "ns_a.loc[ns_a['Age_group'] == pd.Interval(left=0, right=10)]"
   ]
  },
  {
   "cell_type": "markdown",
   "metadata": {},
   "source": [
    "不幸罹难的儿童中，有25名来自lower仓位。想不到在危难面前，仓位等级差别，贫富差别也会体现到儿童身上。"
   ]
  },
  {
   "cell_type": "markdown",
   "metadata": {},
   "source": [
    "## 幸存是否和结伴而行有关？"
   ]
  },
  {
   "cell_type": "code",
   "execution_count": 136,
   "metadata": {},
   "outputs": [
    {
     "name": "stdout",
     "output_type": "stream",
     "text": [
      "sp_type\n",
      "N    0.303538\n",
      "Y    0.505650\n",
      "Name: Survived, dtype: float64\n",
      "sp_type\n",
      "N    0.696462\n",
      "Y    0.494350\n",
      "Name: Survived, dtype: float64\n"
     ]
    },
    {
     "data": {
      "image/png": "[encoded data removed]",
      "text/plain": [
       "<matplotlib.figure.Figure at 0x1b99522d710>"
      ]
     },
     "metadata": {},
     "output_type": "display_data"
    }
   ],
   "source": [
    "sp_total = indexs_group_by(\"sp_type\", ret_cols_names=\"Survived\")\n",
    "sp_surviveds = sp_total.mean()\n",
    "print(sp_surviveds)\n",
    "sp_not_surviveds = sp_surviveds.apply(not_survived_cal)\n",
    "print(sp_not_surviveds)\n",
    "create_bar_plot(sp_not_surviveds, sp_surviveds, \\\n",
    "                xlabels=['sp_type_N', 'sp_type_Y'], ylabel='Ratio', legend_names=['Not Survived', 'Survived'], title=\"SibSp/Parch VS Survived\")"
   ]
  },
  {
   "cell_type": "markdown",
   "metadata": {},
   "source": [
    "- 蓝色都是有结伴而行的乘客\n",
    "- 红色都是没有结伴而行的\n",
    "\n",
    "可以从右侧的两条柱状图看出，结伴而行的乘客幸存率要高出将近一倍。这个说明出门在外，有个照应是很重要的。"
   ]
  },
  {
   "cell_type": "markdown",
   "metadata": {},
   "source": [
    "---\n",
    "# 数据分析总结"
   ]
  },
  {
   "cell_type": "markdown",
   "metadata": {},
   "source": [
    "## 对分析数据进行总结\n",
    "\n",
    "1. 很多旅客是从Southampton登船，其次是Cherbourg，再次是Queenstown，还有两位旅客未知。也因为Southampton是泰坦尼克号的启航地，所以登船人数最多\n",
    "2. 幸存率和仓位等级相关，Pclass值为1的乘客，幸存率高达63%，而仓位最低级的乘客，幸存率仅有23%，两者相差3倍之多\n",
    "3. 幸存率和性别相关，女性的幸存率高于男性，是男性的3倍\n",
    "4. 年龄越小，幸存率越高，0-10岁的幸存率最高，按照年龄分段来看生还率(0-10]>(10-20]>(20-30]>(30-40]>(40-50]>(50-60]>(60-70]>(70-80]>(80-90]但有一点，0-10岁的这部分儿童，如果所处的Pclass为Lower的话，就没有那么幸运了。\n",
    "5. 如果这次路途是结伴而行的话，幸存率会比单独出行的，稍微要高20%，这里证明出门在外有个照应是多么重要。\n",
    "\n",
    "## 分析局限性\n",
    "\n",
    "- 泰坦尼克号上的总人数是2224人，死亡人数是1514，生还人数是710人，本次抽样数据是891人。\n",
    "- 如果本次分析样本是随机抽样无偏的话，根据中心极限定理，分析结果具有代表性，如果不是随机选出，那么分析结果就不可靠了。\n",
    "\n",
    "[参考文献](https://zh.wikipedia.org/wiki/%E6%B3%B0%E5%9D%A6%E5%B0%BC%E5%85%8B%E5%8F%B7)"
   ]
  }
 ],
 "metadata": {
  "kernelspec": {
   "display_name": "Python 3",
   "language": "python",
   "name": "python3"
  },
  "language_info": {
   "codemirror_mode": {
    "name": "ipython",
    "version": 3
   },
   "file_extension": ".py",
   "mimetype": "text/x-python",
   "name": "python",
   "nbconvert_exporter": "python",
   "pygments_lexer": "ipython3",
   "version": "3.6.3"
  }
 },
 "nbformat": 4,
 "nbformat_minor": 2
}
